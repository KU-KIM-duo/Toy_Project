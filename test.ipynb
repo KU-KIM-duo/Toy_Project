{
 "cells": [
  {
   "cell_type": "code",
   "execution_count": 1,
   "metadata": {},
   "outputs": [],
   "source": [
    "import pandas as pd\n",
    "\n",
    "import selenium\n",
    "from selenium import webdriver\n",
    "from selenium.webdriver import ActionChains\n",
    "\n",
    "from selenium.webdriver.common.keys import Keys\n",
    "from selenium.webdriver.common.by import By\n",
    "\n",
    "from selenium.webdriver.support.ui import Select\n",
    "from selenium.webdriver.support.ui import WebDriverWait\n",
    "\n",
    "import logging\n",
    "import loger\n",
    "\n",
    "\n",
    "import itertools\n",
    "import pymysql\n",
    "import re\n",
    "import time\n",
    "import random"
   ]
  },
  {
   "cell_type": "code",
   "execution_count": 22,
   "metadata": {},
   "outputs": [],
   "source": [
    "# 데이터베이스 연결\n",
    "sql_connect = pymysql.Connect(\n",
    "    host = '127.0.0.1',#'129.154.62.175',\n",
    "    user = 'root',#'streamlit',\n",
    "    password = '1234',#'bigdata1!',\n",
    "    db = 'streamlit_db',#db 이름 입력,\n",
    "    charset = 'utf8mb4'\n",
    ")\n",
    "\n",
    "# cursor 생성(통로 역할)\n",
    "cursor = sql_connect.cursor()\n",
    "\n",
    "# your_gg 테이블에 데이터 조회 쿼리문 전송\n",
    "cursor.execute('select * from op_gg')\n",
    "\n",
    "# fetchall함수는 테이블에있는 모든 데이터를 가지고옴 \n",
    "load_data = cursor.fetchall()\n",
    "\n",
    "# load_data의 id열은 제외한 user_id만 데이터프레임 형태로 저장\n",
    "user_name = pd.DataFrame(load_data)[1]"
   ]
  },
  {
   "cell_type": "code",
   "execution_count": 23,
   "metadata": {},
   "outputs": [],
   "source": [
    "# 크롤링한 데이터 your_gg 테이블 전체를 불러와서 데이터 넣어줌\n",
    "slq = 'insert into your_gg values(%s)'"
   ]
  },
  {
   "cell_type": "code",
   "execution_count": 24,
   "metadata": {},
   "outputs": [],
   "source": [
    "#logging 결과 텍스트 파일 위치\n",
    "log_file_path = 'E:/토이프로젝트/log/name_crawling_log.log'\n",
    "logg = loger.mylog(log_file_path)\n",
    "\n",
    "#크롬 driver 위치\n",
    "driver_path = 'E:/토이프로젝트/crawling_data/chromedriver'"
   ]
  },
  {
   "cell_type": "code",
   "execution_count": 29,
   "metadata": {},
   "outputs": [
    {
     "name": "stderr",
     "output_type": "stream",
     "text": [
      "C:\\Users\\USER\\AppData\\Local\\Temp\\ipykernel_27480\\4026347286.py:1: DeprecationWarning: executable_path has been deprecated, please pass in a Service object\n",
      "  driver = webdriver.Chrome(executable_path='driver_path')\n"
     ]
    }
   ],
   "source": [
    "driver = webdriver.Chrome(executable_path='driver_path')\n",
    "\n",
    "for x,i in enumerate(user_name):\n",
    "    # 닉네임 가져와서 URL로 접근\n",
    "    URL = 'https://your.gg/ko/kr/profile/{}'.format(i)\n",
    "    driver.get(url=URL)\n",
    "    # 10초 기다리는데 그 전에 페이지 로딩되면 다음 코드로 넘어감\n",
    "    driver.implicitly_wait(10)\n",
    "    # op.gg에서 수집한 닉네임을 your.gg에서 크롤링할 당시 닉네임 변경한 사람이 있을까봐 예외처리함\n",
    "    try:\n",
    "        # 전적갱신 버튼 눌러줌\n",
    "        driver.find_element(By.XPATH,'//*[@id=\"__next\"]/div/main/header/div/div[2]/button').click()\n",
    "        time.sleep(3)\n",
    "        driver.implicitly_wait(10) # 4~8초 사이 랜덤으로 타임슬립 걸어줌 <-- 이거 고쳤습니다\n",
    "\n",
    "        # 지표 더 보기 버튼 클릭\n",
    "        driver.find_element(By.XPATH,'//*[@id=\"__next\"]/div/main/div[1]/div/div[2]/div[2]/button').click()\n",
    "        driver.implicitly_wait(2)\n",
    "        \n",
    "        # target에는 현재 시즌 티어가 저장됨\n",
    "        target = driver.find_element(By.XPATH,'//*[@id=\"__next\"]/div/main/header/div/div[1]/div[2]/div/span[1]').text\n",
    "        \n",
    "        # 전 시즌 티어 저장시 작년에 롤을 하지 않은 사람도 있기 때문에 예외처리\n",
    "        try:\n",
    "            before_season = driver.find_element(By.XPATH,'//*[@id=\"__next\"]/div/main/header/div/div[1]/div[3]/div[1]').text.split('\\n')[1]\n",
    "        except:\n",
    "            before_season = 'unranked'\n",
    "        \n",
    "        # 주 포지션 저장\n",
    "        main_position = driver.find_element(By.XPATH,'//*[@id=\"__next\"]/div/main/div[1]/div/div[2]/div[2]/div[1]/div[2]/div[1]/label[1]/div/span[1]').text \n",
    "        \n",
    "        # 승,패 합친 판 수 데이터를 전처리하여 num_game 변수에 저장\n",
    "        num_gamee = driver.find_element(By.XPATH,'//*[@id=\"__next\"]/div/main/header/div/div[1]/div[2]/div/span[3]').text\n",
    "        num_game = int(re.sub('\\D','',num_gamee.split()[2])) + int(re.sub('\\D','',num_gamee.split()[3]))\n",
    "        \n",
    "        # 지표 더 보기 통해 나온 22개의 데이터들을 한꺼번에 들고와서 그 값만 리스트로 저장\n",
    "        info = driver.find_element(By.XPATH,'//*[@id=\"__next\"]/div/main/div[1]/div/div[2]/div[2]/div[3]/div/ul').text.split('\\n')\n",
    "        logg.log('유저: {} 크롤링'.format(i), level = logging.warning)\n",
    "        result = [info[i * 3:(i + 1) * 3][0] for i in range((len(info) + 3 - 1) // 3 )]\n",
    "        print([info[i * 3:(i + 1) * 3][0] for i in range((len(info) + 3 - 1) // 3 )])\n",
    "        \n",
    "        # 닉네임, 전시즌티어, 주포지션, 총판수, 22개 데이터, 현시즌티어 데이터 저장 \n",
    "        va = tuple(list([i,before_season,main_position,num_game] + result + [target]))\n",
    "        print(va)\n",
    "        \n",
    "        # # SQL에 데이터 입력 쿼리 던짐\n",
    "        # cursor.execute(slq, va)\n",
    "        \n",
    "        # # 입력한 데이터 저장\n",
    "        # sql_connect.commit()\n",
    "        # logg.log('유저: {} MySQL Insert'.format(i), level = logging.warning)\n",
    "    except:\n",
    "        pass\n",
    "\n",
    "# 연결자 종료\n",
    "# sql_connect.close()\n",
    "driver.quit()"
   ]
  },
  {
   "cell_type": "code",
   "execution_count": null,
   "metadata": {},
   "outputs": [],
   "source": []
  }
 ],
 "metadata": {
  "kernelspec": {
   "display_name": "streamlit",
   "language": "python",
   "name": "python3"
  },
  "language_info": {
   "codemirror_mode": {
    "name": "ipython",
    "version": 3
   },
   "file_extension": ".py",
   "mimetype": "text/x-python",
   "name": "python",
   "nbconvert_exporter": "python",
   "pygments_lexer": "ipython3",
   "version": "3.11.2"
  },
  "orig_nbformat": 4
 },
 "nbformat": 4,
 "nbformat_minor": 2
}
